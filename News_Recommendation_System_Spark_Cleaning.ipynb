{
 "cells": [
  {
   "cell_type": "code",
   "execution_count": 1,
   "metadata": {
    "colab": {
     "base_uri": "https://localhost:8080/"
    },
    "id": "PZtpo6EZkNyR",
    "outputId": "6333f185-0181-4785-87ea-a72f0c699efb"
   },
   "outputs": [
    {
     "name": "stdout",
     "output_type": "stream",
     "text": [
      "Collecting sparknlp\n",
      "  Downloading https://files.pythonhosted.org/packages/7c/07/45486033981458596a8273782c3230bf6279d1266c96de6b654fe40e765b/sparknlp-1.0.0-py3-none-any.whl\n",
      "Collecting spark-nlp\n",
      "\u001b[?25l  Downloading https://files.pythonhosted.org/packages/aa/69/703072f975ea4cea4097f18995221cd751302606e16c070a959813492166/spark_nlp-3.1.0-py2.py3-none-any.whl (44kB)\n",
      "\u001b[K     |████████████████████████████████| 51kB 3.9MB/s \n",
      "\u001b[?25hRequirement already satisfied: numpy in /usr/local/lib/python3.7/dist-packages (from sparknlp) (1.19.5)\n",
      "Installing collected packages: spark-nlp, sparknlp\n",
      "Successfully installed spark-nlp-3.1.0 sparknlp-1.0.0\n"
     ]
    }
   ],
   "source": [
    "!pip install sparknlp"
   ]
  },
  {
   "cell_type": "code",
   "execution_count": 5,
   "metadata": {
    "colab": {
     "base_uri": "https://localhost:8080/"
    },
    "id": "Rn5OylElk52-",
    "outputId": "aa4cf79b-3ffd-4953-8946-0eed24eb8566"
   },
   "outputs": [
    {
     "name": "stdout",
     "output_type": "stream",
     "text": [
      "Collecting pyspark\n",
      "\u001b[?25l  Downloading https://files.pythonhosted.org/packages/89/db/e18cfd78e408de957821ec5ca56de1250645b05f8523d169803d8df35a64/pyspark-3.1.2.tar.gz (212.4MB)\n",
      "\u001b[K     |████████████████████████████████| 212.4MB 66kB/s \n",
      "\u001b[?25hCollecting py4j==0.10.9\n",
      "\u001b[?25l  Downloading https://files.pythonhosted.org/packages/9e/b6/6a4fb90cd235dc8e265a6a2067f2a2c99f0d91787f06aca4bcf7c23f3f80/py4j-0.10.9-py2.py3-none-any.whl (198kB)\n",
      "\u001b[K     |████████████████████████████████| 204kB 42.8MB/s \n",
      "\u001b[?25hBuilding wheels for collected packages: pyspark\n",
      "  Building wheel for pyspark (setup.py) ... \u001b[?25l\u001b[?25hdone\n",
      "  Created wheel for pyspark: filename=pyspark-3.1.2-py2.py3-none-any.whl size=212880768 sha256=23d3ff82499bddb12736792dccb290fd725aa76a7383e7c74402580714638659\n",
      "  Stored in directory: /root/.cache/pip/wheels/40/1b/2c/30f43be2627857ab80062bef1527c0128f7b4070b6b2d02139\n",
      "Successfully built pyspark\n",
      "Installing collected packages: py4j, pyspark\n",
      "Successfully installed py4j-0.10.9 pyspark-3.1.2\n"
     ]
    }
   ],
   "source": [
    "!pip install pyspark"
   ]
  },
  {
   "cell_type": "code",
   "execution_count": 38,
   "metadata": {
    "colab": {
     "base_uri": "https://localhost:8080/"
    },
    "id": "F84d8m5HtuX8",
    "outputId": "0a66d51a-6c9b-42c6-b293-fd5fc7ecb910"
   },
   "outputs": [
    {
     "name": "stdout",
     "output_type": "stream",
     "text": [
      "Requirement already satisfied: nltk in /usr/local/lib/python3.7/dist-packages (3.2.5)\n",
      "Requirement already satisfied: six in /usr/local/lib/python3.7/dist-packages (from nltk) (1.15.0)\n"
     ]
    }
   ],
   "source": [
    "!pip install nltk"
   ]
  },
  {
   "cell_type": "code",
   "execution_count": 2,
   "metadata": {
    "id": "nbusBmFJkSOX"
   },
   "outputs": [],
   "source": [
    "import pandas as pd\n",
    "import numpy as np"
   ]
  },
  {
   "cell_type": "code",
   "execution_count": 19,
   "metadata": {
    "id": "P7RsvrBBkhlP"
   },
   "outputs": [],
   "source": [
    "from pyspark.sql import SparkSession\n",
    "from pyspark import SparkConf, SparkContext"
   ]
  },
  {
   "cell_type": "code",
   "execution_count": 21,
   "metadata": {
    "id": "NPLfYTIhlzHc"
   },
   "outputs": [],
   "source": [
    "config = SparkSession.builder.master(\"local[*]\").config(\"spark.executor.memory\", \"70g\").config(\"spark.driver.memory\", \"50g\").config(\"spark.memory.offHeap.enabled\",True).config(\"spark.memory.offHeap.size\",\"16g\").appName(\"clinical\").getOrCreate()"
   ]
  },
  {
   "cell_type": "code",
   "execution_count": 22,
   "metadata": {
    "id": "ghitvPTTlzMT"
   },
   "outputs": [],
   "source": [
    "data = config.read.option('Header',True).csv('/content/data.csv')"
   ]
  },
  {
   "cell_type": "code",
   "execution_count": 23,
   "metadata": {
    "colab": {
     "base_uri": "https://localhost:8080/"
    },
    "id": "ImPa4MR3lzOT",
    "outputId": "91cd5264-9496-442f-972f-52744942cb95"
   },
   "outputs": [
    {
     "name": "stdout",
     "output_type": "stream",
     "text": [
      "+------+-------------+--------------------+--------------------+--------------------+\n",
      "|    id|     category|        sub-category|               title|            abstract|\n",
      "+------+-------------+--------------------+--------------------+--------------------+\n",
      "|N55528|    lifestyle|     lifestyleroyals|the brands queen ...|shop the notebook...|\n",
      "|N19639|       health|          weightloss|50 worst habits f...|these seemingly h...|\n",
      "|N61837|         news|           newsworld|the cost of trump...|lt ivan molchanet...|\n",
      "|N53526|       health|              voices|i was an nba wife...|i felt like i was...|\n",
      "|N38324|       health|             medical|how to get rid of...|they seem harmles...|\n",
      "| N2073|       sports|        football_nfl|should nfl be abl...|several fines cam...|\n",
      "|N49186|      weather|   weathertopstories|it s been orlando...|there won t be a ...|\n",
      "|N59295|         news|           newsworld|chile three die i...|three people have...|\n",
      "|N24510|entertainment|              gaming|best ps5 games to...|every confirmed o...|\n",
      "|N39237|         news|newsscienceandtec...|how to report wea...|when there are ac...|\n",
      "| N9721|       health|           nutrition|50 foods you shou...|this is so depres...|\n",
      "|N60905|        autos|    autosenthusiasts|trying to make a ...|the 2019 ram 3500...|\n",
      "|N39758|       health|           nutrition|25 biggest grocer...|from picking up f...|\n",
      "|N28361|       health|            wellness|instagram filters...|in an effort to c...|\n",
      "|N18680|       health|         health-news|michigan apple re...|a michigan produc...|\n",
      "|N55610|    lifestyle|     lifestyleroyals|kate middleton s ...|the duchess of ca...|\n",
      "|N35621|entertainment|           celebrity|stars who got fir...|take a look back ...|\n",
      "|N22850|       travel|       travelarticle|newark liberty ai...|the project which...|\n",
      "|N58173|        autos|           autossuvs|is this the 2021 ...|a motor1 com read...|\n",
      "|N29120|       sports|        football_nfl|john dorsey admit...|team officials in...|\n",
      "+------+-------------+--------------------+--------------------+--------------------+\n",
      "only showing top 20 rows\n",
      "\n"
     ]
    }
   ],
   "source": [
    "data.show()"
   ]
  },
  {
   "cell_type": "code",
   "execution_count": 33,
   "metadata": {
    "id": "nZyxb1GZsiEy"
   },
   "outputs": [],
   "source": [
    "import sparknlp\n",
    "from sparknlp.base import *\n",
    "from sparknlp.annotator import * "
   ]
  },
  {
   "cell_type": "code",
   "execution_count": 34,
   "metadata": {
    "id": "sPEvUyHLsiNo"
   },
   "outputs": [],
   "source": [
    "spark = sparknlp.start()"
   ]
  },
  {
   "cell_type": "code",
   "execution_count": 40,
   "metadata": {
    "id": "y-7DbT_rt5FS"
   },
   "outputs": [],
   "source": [
    "import nltk"
   ]
  },
  {
   "cell_type": "code",
   "execution_count": 41,
   "metadata": {
    "colab": {
     "base_uri": "https://localhost:8080/"
    },
    "id": "M8cR-KW8t0sJ",
    "outputId": "2789f096-31bf-46c4-f3fe-c7c9bf380387"
   },
   "outputs": [
    {
     "name": "stdout",
     "output_type": "stream",
     "text": [
      "[nltk_data] Downloading package stopwords to /root/nltk_data...\n",
      "[nltk_data]   Unzipping corpora/stopwords.zip.\n"
     ]
    },
    {
     "data": {
      "text/plain": [
       "True"
      ]
     },
     "execution_count": 41,
     "metadata": {
      "tags": []
     },
     "output_type": "execute_result"
    }
   ],
   "source": [
    "nltk.download('stopwords')"
   ]
  },
  {
   "cell_type": "code",
   "execution_count": 42,
   "metadata": {
    "id": "dgVzXoL_trBp"
   },
   "outputs": [],
   "source": [
    "from nltk.corpus import stopwords\n",
    "eng_stopwords = stopwords.words('english')"
   ]
  },
  {
   "cell_type": "code",
   "execution_count": 43,
   "metadata": {
    "colab": {
     "base_uri": "https://localhost:8080/"
    },
    "id": "NrjDRVH9siUf",
    "outputId": "ae8ab094-cb9a-4933-b517-5a5a7d303342"
   },
   "outputs": [
    {
     "name": "stdout",
     "output_type": "stream",
     "text": [
      "lemma_antbnc download started this may take some time.\n",
      "Approximate size to download 907.6 KB\n",
      "[OK!]\n"
     ]
    }
   ],
   "source": [
    "documentAssembler = DocumentAssembler().setInputCol('title').setOutputCol('document')\n",
    "\n",
    "tokenizer = Tokenizer().setInputCols(['document']).setOutputCol('tokenized')\n",
    "\n",
    "lemmatizer = LemmatizerModel.pretrained().setInputCols(['tokenized']).setOutputCol('lemmatized')\n",
    "\n",
    "stopwords_cleaner = StopWordsCleaner().setInputCols(['lemmatized']).setOutputCol('no_stop_lemmatized').setStopWords(eng_stopwords)\n",
    "\n",
    "finisher = Finisher().setInputCols(['no_stop_lemmatized'])"
   ]
  },
  {
   "cell_type": "code",
   "execution_count": 44,
   "metadata": {
    "id": "BlTq4fBysyrp"
   },
   "outputs": [],
   "source": [
    "pipes = Pipeline(stages=[documentAssembler,tokenizer,lemmatizer,stopwords_cleaner,finisher])"
   ]
  },
  {
   "cell_type": "code",
   "execution_count": 45,
   "metadata": {
    "id": "-_npFGpQsyue"
   },
   "outputs": [],
   "source": [
    "df = data\n",
    "data_fit = pipes.fit(df)\n",
    "data_fin = data_fit.transform(df)"
   ]
  },
  {
   "cell_type": "code",
   "execution_count": 47,
   "metadata": {
    "colab": {
     "base_uri": "https://localhost:8080/"
    },
    "id": "YgkSNNFlsyxb",
    "outputId": "1b4b361a-d8bc-4533-c2b8-3b02015fa0dd"
   },
   "outputs": [
    {
     "name": "stdout",
     "output_type": "stream",
     "text": [
      "+------+-------------+--------------------+--------------------+--------------------+---------------------------+\n",
      "|    id|     category|        sub-category|               title|            abstract|finished_no_stop_lemmatized|\n",
      "+------+-------------+--------------------+--------------------+--------------------+---------------------------+\n",
      "|N55528|    lifestyle|     lifestyleroyals|the brands queen ...|shop the notebook...|       [brand, queen, el...|\n",
      "|N19639|       health|          weightloss|50 worst habits f...|these seemingly h...|       [50, bad, habit, ...|\n",
      "|N61837|         news|           newsworld|the cost of trump...|lt ivan molchanet...|       [cost, trump, aid...|\n",
      "|N53526|       health|              voices|i was an nba wife...|i felt like i was...|       [nba, wife, affec...|\n",
      "|N38324|       health|             medical|how to get rid of...|they seem harmles...|       [get, rid, skin, ...|\n",
      "| N2073|       sports|        football_nfl|should nfl be abl...|several fines cam...|       [nfl, able, fine,...|\n",
      "|N49186|      weather|   weathertopstories|it s been orlando...|there won t be a ...|       [orlando, hot, oc...|\n",
      "|N59295|         news|           newsworld|chile three die i...|three people have...|       [chile, three, di...|\n",
      "|N24510|entertainment|              gaming|best ps5 games to...|every confirmed o...|       [good, ps5, game,...|\n",
      "|N39237|         news|newsscienceandtec...|how to report wea...|when there are ac...|       [report, weather,...|\n",
      "| N9721|       health|           nutrition|50 foods you shou...|this is so depres...|       [50, food, never,...|\n",
      "|N60905|        autos|    autosenthusiasts|trying to make a ...|the 2019 ram 3500...|       [try, make, ram, ...|\n",
      "|N39758|       health|           nutrition|25 biggest grocer...|from picking up f...|       [25, big, grocery...|\n",
      "|N28361|       health|            wellness|instagram filters...|in an effort to c...|       [instagram, filte...|\n",
      "|N18680|       health|         health-news|michigan apple re...|a michigan produc...|       [michigan, apple,...|\n",
      "|N55610|    lifestyle|     lifestyleroyals|kate middleton s ...|the duchess of ca...|       [kate, middleton,...|\n",
      "|N35621|entertainment|           celebrity|stars who got fir...|take a look back ...|       [star, get, fire,...|\n",
      "|N22850|       travel|       travelarticle|newark liberty ai...|the project which...|       [newark, liberty,...|\n",
      "|N58173|        autos|           autossuvs|is this the 2021 ...|a motor1 com read...|       [2021, gmc, yukon...|\n",
      "|N29120|       sports|        football_nfl|john dorsey admit...|team officials in...|       [john, dorsey, ad...|\n",
      "+------+-------------+--------------------+--------------------+--------------------+---------------------------+\n",
      "only showing top 20 rows\n",
      "\n"
     ]
    }
   ],
   "source": [
    "data_fin.show()"
   ]
  },
  {
   "cell_type": "code",
   "execution_count": 24,
   "metadata": {
    "id": "n5-2pVhjlzQZ"
   },
   "outputs": [],
   "source": [
    "from pyspark.ml import Pipeline"
   ]
  },
  {
   "cell_type": "code",
   "execution_count": 54,
   "metadata": {
    "id": "-cbXenyQqzSf"
   },
   "outputs": [],
   "source": [
    "df = data_fin.toPandas()"
   ]
  },
  {
   "cell_type": "code",
   "execution_count": 55,
   "metadata": {
    "id": "lpMQu59VwSvu"
   },
   "outputs": [],
   "source": [
    "df.to_csv('data_spark.csv',index=None)"
   ]
  }
 ],
 "metadata": {
  "colab": {
   "collapsed_sections": [],
   "name": "News Recommendation System Spark Cleaning.ipynb",
   "provenance": []
  },
  "kernelspec": {
   "display_name": "Python 3 (ipykernel)",
   "language": "python",
   "name": "python3"
  },
  "language_info": {
   "codemirror_mode": {
    "name": "ipython",
    "version": 3
   },
   "file_extension": ".py",
   "mimetype": "text/x-python",
   "name": "python",
   "nbconvert_exporter": "python",
   "pygments_lexer": "ipython3",
   "version": "3.8.10"
  }
 },
 "nbformat": 4,
 "nbformat_minor": 1
}
