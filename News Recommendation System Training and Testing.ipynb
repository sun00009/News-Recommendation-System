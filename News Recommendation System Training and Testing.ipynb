{
 "cells": [
  {
   "cell_type": "code",
   "execution_count": 1,
   "id": "5fe227ad",
   "metadata": {},
   "outputs": [],
   "source": [
    "import pandas as pd\n",
    "import numpy as np\n",
    "import warnings\n",
    "\n",
    "warnings.filterwarnings('ignore')"
   ]
  },
  {
   "cell_type": "code",
   "execution_count": 2,
   "id": "21995e2a",
   "metadata": {},
   "outputs": [],
   "source": [
    "from sklearn.preprocessing import LabelEncoder\n",
    "from sklearn.feature_extraction.text import TfidfVectorizer\n",
    "from sklearn.model_selection import train_test_split"
   ]
  },
  {
   "cell_type": "code",
   "execution_count": 3,
   "id": "d0be4924",
   "metadata": {},
   "outputs": [],
   "source": [
    "from xgboost import XGBClassifier\n",
    "from sklearn.ensemble import ExtraTreesClassifier\n",
    "from lightgbm import LGBMClassifier\n",
    "from sklearn.linear_model import LogisticRegression\n",
    "from sklearn.ensemble import StackingClassifier\n",
    "from sklearn.multioutput import MultiOutputClassifier"
   ]
  },
  {
   "cell_type": "code",
   "execution_count": 4,
   "id": "42881f96",
   "metadata": {},
   "outputs": [],
   "source": [
    "df = pd.read_csv('data_final.csv')"
   ]
  },
  {
   "cell_type": "code",
   "execution_count": 5,
   "id": "f839604f",
   "metadata": {},
   "outputs": [
    {
     "data": {
      "text/html": [
       "<div>\n",
       "<style scoped>\n",
       "    .dataframe tbody tr th:only-of-type {\n",
       "        vertical-align: middle;\n",
       "    }\n",
       "\n",
       "    .dataframe tbody tr th {\n",
       "        vertical-align: top;\n",
       "    }\n",
       "\n",
       "    .dataframe thead th {\n",
       "        text-align: right;\n",
       "    }\n",
       "</style>\n",
       "<table border=\"1\" class=\"dataframe\">\n",
       "  <thead>\n",
       "    <tr style=\"text-align: right;\">\n",
       "      <th></th>\n",
       "      <th>id</th>\n",
       "      <th>category</th>\n",
       "      <th>sub-category</th>\n",
       "      <th>title</th>\n",
       "      <th>abstract</th>\n",
       "      <th>clean_title</th>\n",
       "    </tr>\n",
       "  </thead>\n",
       "  <tbody>\n",
       "    <tr>\n",
       "      <th>0</th>\n",
       "      <td>N55528</td>\n",
       "      <td>lifestyle</td>\n",
       "      <td>lifestyleroyals</td>\n",
       "      <td>the brands queen elizabeth prince charles and ...</td>\n",
       "      <td>shop the notebooks jackets and more that the r...</td>\n",
       "      <td>brand queen elizabeth prince charles prince p...</td>\n",
       "    </tr>\n",
       "    <tr>\n",
       "      <th>1</th>\n",
       "      <td>N19639</td>\n",
       "      <td>health</td>\n",
       "      <td>weightloss</td>\n",
       "      <td>50 worst habits for belly fat</td>\n",
       "      <td>these seemingly harmless habits are holding yo...</td>\n",
       "      <td>50 bad habit belly fat</td>\n",
       "    </tr>\n",
       "    <tr>\n",
       "      <th>2</th>\n",
       "      <td>N61837</td>\n",
       "      <td>news</td>\n",
       "      <td>newsworld</td>\n",
       "      <td>the cost of trump s aid freeze in the trenches...</td>\n",
       "      <td>lt ivan molchanets peeked over a parapet of sa...</td>\n",
       "      <td>cost trump aid freeze trench ukraine war</td>\n",
       "    </tr>\n",
       "    <tr>\n",
       "      <th>3</th>\n",
       "      <td>N53526</td>\n",
       "      <td>health</td>\n",
       "      <td>voices</td>\n",
       "      <td>i was an nba wife here s how it affected my me...</td>\n",
       "      <td>i felt like i was a fraud and being an nba wif...</td>\n",
       "      <td>nba wife affect mental health</td>\n",
       "    </tr>\n",
       "    <tr>\n",
       "      <th>4</th>\n",
       "      <td>N38324</td>\n",
       "      <td>health</td>\n",
       "      <td>medical</td>\n",
       "      <td>how to get rid of skin tags according to a der...</td>\n",
       "      <td>they seem harmless but there s a very good rea...</td>\n",
       "      <td>get rid skin tag accord dermatologist</td>\n",
       "    </tr>\n",
       "    <tr>\n",
       "      <th>...</th>\n",
       "      <td>...</td>\n",
       "      <td>...</td>\n",
       "      <td>...</td>\n",
       "      <td>...</td>\n",
       "      <td>...</td>\n",
       "      <td>...</td>\n",
       "    </tr>\n",
       "    <tr>\n",
       "      <th>48607</th>\n",
       "      <td>N17258</td>\n",
       "      <td>news</td>\n",
       "      <td>newsscienceandtechnology</td>\n",
       "      <td>realme takes chunk of india mobile market as s...</td>\n",
       "      <td>over 400 percent more phones shipped year on year</td>\n",
       "      <td>realme take chunk india mobile market samsung...</td>\n",
       "    </tr>\n",
       "    <tr>\n",
       "      <th>48608</th>\n",
       "      <td>N23858</td>\n",
       "      <td>sports</td>\n",
       "      <td>golf</td>\n",
       "      <td>young northeast florida fans flock to u s wome...</td>\n",
       "      <td>when the u s women s national soccer team arri...</td>\n",
       "      <td>young northeast florida fan flock u woman soc...</td>\n",
       "    </tr>\n",
       "    <tr>\n",
       "      <th>48609</th>\n",
       "      <td>N16909</td>\n",
       "      <td>weather</td>\n",
       "      <td>weathertopstories</td>\n",
       "      <td>adapting learning and soul searching reflectin...</td>\n",
       "      <td>woolsey fire anniversary a community is foreve...</td>\n",
       "      <td>adapt learn soul search reflect woolsey fire</td>\n",
       "    </tr>\n",
       "    <tr>\n",
       "      <th>48610</th>\n",
       "      <td>N7482</td>\n",
       "      <td>sports</td>\n",
       "      <td>more_sports</td>\n",
       "      <td>st dominic soccer player tries to kick cancer ...</td>\n",
       "      <td>sometimes what happens on the sidelines can be...</td>\n",
       "      <td>st dominic soccer player try kick cancer curb</td>\n",
       "    </tr>\n",
       "    <tr>\n",
       "      <th>48611</th>\n",
       "      <td>N34418</td>\n",
       "      <td>sports</td>\n",
       "      <td>soccer_epl</td>\n",
       "      <td>how the sounders won mls cup</td>\n",
       "      <td>mark jeremiah and casey were so excited they d...</td>\n",
       "      <td>sounders win ml cup</td>\n",
       "    </tr>\n",
       "  </tbody>\n",
       "</table>\n",
       "<p>48612 rows × 6 columns</p>\n",
       "</div>"
      ],
      "text/plain": [
       "           id   category              sub-category  \\\n",
       "0      N55528  lifestyle           lifestyleroyals   \n",
       "1      N19639     health                weightloss   \n",
       "2      N61837       news                 newsworld   \n",
       "3      N53526     health                    voices   \n",
       "4      N38324     health                   medical   \n",
       "...       ...        ...                       ...   \n",
       "48607  N17258       news  newsscienceandtechnology   \n",
       "48608  N23858     sports                      golf   \n",
       "48609  N16909    weather         weathertopstories   \n",
       "48610   N7482     sports               more_sports   \n",
       "48611  N34418     sports                soccer_epl   \n",
       "\n",
       "                                                   title  \\\n",
       "0      the brands queen elizabeth prince charles and ...   \n",
       "1                          50 worst habits for belly fat   \n",
       "2      the cost of trump s aid freeze in the trenches...   \n",
       "3      i was an nba wife here s how it affected my me...   \n",
       "4      how to get rid of skin tags according to a der...   \n",
       "...                                                  ...   \n",
       "48607  realme takes chunk of india mobile market as s...   \n",
       "48608  young northeast florida fans flock to u s wome...   \n",
       "48609  adapting learning and soul searching reflectin...   \n",
       "48610  st dominic soccer player tries to kick cancer ...   \n",
       "48611                       how the sounders won mls cup   \n",
       "\n",
       "                                                abstract  \\\n",
       "0      shop the notebooks jackets and more that the r...   \n",
       "1      these seemingly harmless habits are holding yo...   \n",
       "2      lt ivan molchanets peeked over a parapet of sa...   \n",
       "3      i felt like i was a fraud and being an nba wif...   \n",
       "4      they seem harmless but there s a very good rea...   \n",
       "...                                                  ...   \n",
       "48607  over 400 percent more phones shipped year on year   \n",
       "48608  when the u s women s national soccer team arri...   \n",
       "48609  woolsey fire anniversary a community is foreve...   \n",
       "48610  sometimes what happens on the sidelines can be...   \n",
       "48611  mark jeremiah and casey were so excited they d...   \n",
       "\n",
       "                                             clean_title  \n",
       "0       brand queen elizabeth prince charles prince p...  \n",
       "1                                50 bad habit belly fat   \n",
       "2              cost trump aid freeze trench ukraine war   \n",
       "3                         nba wife affect mental health   \n",
       "4                 get rid skin tag accord dermatologist   \n",
       "...                                                  ...  \n",
       "48607   realme take chunk india mobile market samsung...  \n",
       "48608   young northeast florida fan flock u woman soc...  \n",
       "48609      adapt learn soul search reflect woolsey fire   \n",
       "48610     st dominic soccer player try kick cancer curb   \n",
       "48611                               sounders win ml cup   \n",
       "\n",
       "[48612 rows x 6 columns]"
      ]
     },
     "execution_count": 5,
     "metadata": {},
     "output_type": "execute_result"
    }
   ],
   "source": [
    "df"
   ]
  },
  {
   "cell_type": "code",
   "execution_count": 6,
   "id": "e05c1c1e",
   "metadata": {},
   "outputs": [],
   "source": [
    "encode_cat = LabelEncoder().fit(df['category'])\n",
    "encode_sub_cat = LabelEncoder().fit(df['sub-category'])"
   ]
  },
  {
   "cell_type": "code",
   "execution_count": 7,
   "id": "34ca9927",
   "metadata": {},
   "outputs": [],
   "source": [
    "df['category'] = encode_cat.transform(df['category'])\n",
    "df['sub-category'] = encode_sub_cat.transform(df['sub-category'])"
   ]
  },
  {
   "cell_type": "code",
   "execution_count": 8,
   "id": "592d62a7",
   "metadata": {},
   "outputs": [
    {
     "data": {
      "text/html": [
       "<div>\n",
       "<style scoped>\n",
       "    .dataframe tbody tr th:only-of-type {\n",
       "        vertical-align: middle;\n",
       "    }\n",
       "\n",
       "    .dataframe tbody tr th {\n",
       "        vertical-align: top;\n",
       "    }\n",
       "\n",
       "    .dataframe thead th {\n",
       "        text-align: right;\n",
       "    }\n",
       "</style>\n",
       "<table border=\"1\" class=\"dataframe\">\n",
       "  <thead>\n",
       "    <tr style=\"text-align: right;\">\n",
       "      <th></th>\n",
       "      <th>id</th>\n",
       "      <th>category</th>\n",
       "      <th>sub-category</th>\n",
       "      <th>title</th>\n",
       "      <th>abstract</th>\n",
       "      <th>clean_title</th>\n",
       "    </tr>\n",
       "  </thead>\n",
       "  <tbody>\n",
       "    <tr>\n",
       "      <th>0</th>\n",
       "      <td>N55528</td>\n",
       "      <td>6</td>\n",
       "      <td>138</td>\n",
       "      <td>the brands queen elizabeth prince charles and ...</td>\n",
       "      <td>shop the notebooks jackets and more that the r...</td>\n",
       "      <td>brand queen elizabeth prince charles prince p...</td>\n",
       "    </tr>\n",
       "    <tr>\n",
       "      <th>1</th>\n",
       "      <td>N19639</td>\n",
       "      <td>4</td>\n",
       "      <td>254</td>\n",
       "      <td>50 worst habits for belly fat</td>\n",
       "      <td>these seemingly harmless habits are holding yo...</td>\n",
       "      <td>50 bad habit belly fat</td>\n",
       "    </tr>\n",
       "    <tr>\n",
       "      <th>2</th>\n",
       "      <td>N61837</td>\n",
       "      <td>10</td>\n",
       "      <td>186</td>\n",
       "      <td>the cost of trump s aid freeze in the trenches...</td>\n",
       "      <td>lt ivan molchanets peeked over a parapet of sa...</td>\n",
       "      <td>cost trump aid freeze trench ukraine war</td>\n",
       "    </tr>\n",
       "    <tr>\n",
       "      <th>3</th>\n",
       "      <td>N53526</td>\n",
       "      <td>4</td>\n",
       "      <td>249</td>\n",
       "      <td>i was an nba wife here s how it affected my me...</td>\n",
       "      <td>i felt like i was a fraud and being an nba wif...</td>\n",
       "      <td>nba wife affect mental health</td>\n",
       "    </tr>\n",
       "    <tr>\n",
       "      <th>4</th>\n",
       "      <td>N38324</td>\n",
       "      <td>4</td>\n",
       "      <td>147</td>\n",
       "      <td>how to get rid of skin tags according to a der...</td>\n",
       "      <td>they seem harmless but there s a very good rea...</td>\n",
       "      <td>get rid skin tag accord dermatologist</td>\n",
       "    </tr>\n",
       "    <tr>\n",
       "      <th>...</th>\n",
       "      <td>...</td>\n",
       "      <td>...</td>\n",
       "      <td>...</td>\n",
       "      <td>...</td>\n",
       "      <td>...</td>\n",
       "      <td>...</td>\n",
       "    </tr>\n",
       "    <tr>\n",
       "      <th>48607</th>\n",
       "      <td>N17258</td>\n",
       "      <td>10</td>\n",
       "      <td>180</td>\n",
       "      <td>realme takes chunk of india mobile market as s...</td>\n",
       "      <td>over 400 percent more phones shipped year on year</td>\n",
       "      <td>realme take chunk india mobile market samsung...</td>\n",
       "    </tr>\n",
       "    <tr>\n",
       "      <th>48608</th>\n",
       "      <td>N23858</td>\n",
       "      <td>12</td>\n",
       "      <td>101</td>\n",
       "      <td>young northeast florida fans flock to u s wome...</td>\n",
       "      <td>when the u s women s national soccer team arri...</td>\n",
       "      <td>young northeast florida fan flock u woman soc...</td>\n",
       "    </tr>\n",
       "    <tr>\n",
       "      <th>48609</th>\n",
       "      <td>N16909</td>\n",
       "      <td>16</td>\n",
       "      <td>252</td>\n",
       "      <td>adapting learning and soul searching reflectin...</td>\n",
       "      <td>woolsey fire anniversary a community is foreve...</td>\n",
       "      <td>adapt learn soul search reflect woolsey fire</td>\n",
       "    </tr>\n",
       "    <tr>\n",
       "      <th>48610</th>\n",
       "      <td>N7482</td>\n",
       "      <td>12</td>\n",
       "      <td>151</td>\n",
       "      <td>st dominic soccer player tries to kick cancer ...</td>\n",
       "      <td>sometimes what happens on the sidelines can be...</td>\n",
       "      <td>st dominic soccer player try kick cancer curb</td>\n",
       "    </tr>\n",
       "    <tr>\n",
       "      <th>48611</th>\n",
       "      <td>N34418</td>\n",
       "      <td>12</td>\n",
       "      <td>215</td>\n",
       "      <td>how the sounders won mls cup</td>\n",
       "      <td>mark jeremiah and casey were so excited they d...</td>\n",
       "      <td>sounders win ml cup</td>\n",
       "    </tr>\n",
       "  </tbody>\n",
       "</table>\n",
       "<p>48612 rows × 6 columns</p>\n",
       "</div>"
      ],
      "text/plain": [
       "           id  category  sub-category  \\\n",
       "0      N55528         6           138   \n",
       "1      N19639         4           254   \n",
       "2      N61837        10           186   \n",
       "3      N53526         4           249   \n",
       "4      N38324         4           147   \n",
       "...       ...       ...           ...   \n",
       "48607  N17258        10           180   \n",
       "48608  N23858        12           101   \n",
       "48609  N16909        16           252   \n",
       "48610   N7482        12           151   \n",
       "48611  N34418        12           215   \n",
       "\n",
       "                                                   title  \\\n",
       "0      the brands queen elizabeth prince charles and ...   \n",
       "1                          50 worst habits for belly fat   \n",
       "2      the cost of trump s aid freeze in the trenches...   \n",
       "3      i was an nba wife here s how it affected my me...   \n",
       "4      how to get rid of skin tags according to a der...   \n",
       "...                                                  ...   \n",
       "48607  realme takes chunk of india mobile market as s...   \n",
       "48608  young northeast florida fans flock to u s wome...   \n",
       "48609  adapting learning and soul searching reflectin...   \n",
       "48610  st dominic soccer player tries to kick cancer ...   \n",
       "48611                       how the sounders won mls cup   \n",
       "\n",
       "                                                abstract  \\\n",
       "0      shop the notebooks jackets and more that the r...   \n",
       "1      these seemingly harmless habits are holding yo...   \n",
       "2      lt ivan molchanets peeked over a parapet of sa...   \n",
       "3      i felt like i was a fraud and being an nba wif...   \n",
       "4      they seem harmless but there s a very good rea...   \n",
       "...                                                  ...   \n",
       "48607  over 400 percent more phones shipped year on year   \n",
       "48608  when the u s women s national soccer team arri...   \n",
       "48609  woolsey fire anniversary a community is foreve...   \n",
       "48610  sometimes what happens on the sidelines can be...   \n",
       "48611  mark jeremiah and casey were so excited they d...   \n",
       "\n",
       "                                             clean_title  \n",
       "0       brand queen elizabeth prince charles prince p...  \n",
       "1                                50 bad habit belly fat   \n",
       "2              cost trump aid freeze trench ukraine war   \n",
       "3                         nba wife affect mental health   \n",
       "4                 get rid skin tag accord dermatologist   \n",
       "...                                                  ...  \n",
       "48607   realme take chunk india mobile market samsung...  \n",
       "48608   young northeast florida fan flock u woman soc...  \n",
       "48609      adapt learn soul search reflect woolsey fire   \n",
       "48610     st dominic soccer player try kick cancer curb   \n",
       "48611                               sounders win ml cup   \n",
       "\n",
       "[48612 rows x 6 columns]"
      ]
     },
     "execution_count": 8,
     "metadata": {},
     "output_type": "execute_result"
    }
   ],
   "source": [
    "df"
   ]
  },
  {
   "cell_type": "markdown",
   "id": "fb3cb7f6-4af3-43ac-8816-e0bb3f632d55",
   "metadata": {},
   "source": [
    "# MULTI CLASS - CATEGORY AND SUB-CATEGORY CLASSIFIER"
   ]
  },
  {
   "cell_type": "code",
   "execution_count": 9,
   "id": "c7621c9f",
   "metadata": {},
   "outputs": [],
   "source": [
    "X = df['clean_title']\n",
    "y = df[['category','sub-category']]"
   ]
  },
  {
   "cell_type": "code",
   "execution_count": 10,
   "id": "fbd22ec5",
   "metadata": {},
   "outputs": [],
   "source": [
    "X_train, X_test, y_train, y_test = train_test_split(X,y,test_size=0.2,random_state=1)"
   ]
  },
  {
   "cell_type": "code",
   "execution_count": 11,
   "id": "d6eb906c",
   "metadata": {},
   "outputs": [
    {
     "name": "stdout",
     "output_type": "stream",
     "text": [
      "X shape: (48612,)\n",
      "y shape: (48612, 2)\n",
      "X train shape: (38889,)\n",
      "y train shape: (38889, 2)\n",
      "X test shape: (9723,)\n",
      "y test shape: (9723, 2)\n"
     ]
    }
   ],
   "source": [
    "print('X shape: {}'.format(X.shape))\n",
    "print('y shape: {}'.format(y.shape))\n",
    "print('X train shape: {}'.format(X_train.shape))\n",
    "print('y train shape: {}'.format(y_train.shape))\n",
    "print('X test shape: {}'.format(X_test.shape))\n",
    "print('y test shape: {}'.format(y_test.shape))"
   ]
  },
  {
   "cell_type": "code",
   "execution_count": 12,
   "id": "2a57599a",
   "metadata": {},
   "outputs": [],
   "source": [
    "vector_train = TfidfVectorizer(ngram_range=(1,2)).fit(X_train)\n",
    "vocab = vector_train.vocabulary_\n",
    "features = vector_train.get_feature_names()\n",
    "X_train_vect = vector_train.transform(X_train)\n",
    "vector_test = TfidfVectorizer(vocabulary=vocab).fit(X_test)\n",
    "X_test_vect = vector_test.transform(X_test)"
   ]
  },
  {
   "cell_type": "code",
   "execution_count": 18,
   "id": "7319eb8b",
   "metadata": {},
   "outputs": [
    {
     "name": "stdout",
     "output_type": "stream",
     "text": [
      "[20:52:32] WARNING: ..\\src\\learner.cc:1061: Starting in XGBoost 1.3.0, the default evaluation metric used with the objective 'multi:softprob' was changed from 'merror' to 'mlogloss'. Explicitly set eval_metric if you'd like to restore the old behavior.\n",
      "[20:53:13] WARNING: ..\\src\\learner.cc:1061: Starting in XGBoost 1.3.0, the default evaluation metric used with the objective 'multi:softprob' was changed from 'merror' to 'mlogloss'. Explicitly set eval_metric if you'd like to restore the old behavior.\n",
      "Train set accuracy 0.6208\n",
      "Train set accuracy 0.4091\n"
     ]
    }
   ],
   "source": [
    "xgb = XGBClassifier()\n",
    "xgb_1 = MultiOutputClassifier(xgb)\n",
    "xgb_multi = xgb_1.fit(X_train_vect,y_train)\n",
    "print('Train set accuracy {:.4f}'.format(xgb_multi.score(X_train_vect,y_train)))\n",
    "print('Train set accuracy {:.4f}'.format(xgb_multi.score(X_test_vect,y_test)))"
   ]
  },
  {
   "cell_type": "code",
   "execution_count": 13,
   "id": "fbc27ed5",
   "metadata": {},
   "outputs": [
    {
     "name": "stdout",
     "output_type": "stream",
     "text": [
      "Train set accuracy 0.9965\n",
      "Train set accuracy 0.4793\n"
     ]
    }
   ],
   "source": [
    "etc = ExtraTreesClassifier()\n",
    "etc_1 = MultiOutputClassifier(etc)\n",
    "etc_multi = etc_1.fit(X_train_vect,y_train)\n",
    "print('Train set accuracy {:.4f}'.format(etc_multi.score(X_train_vect,y_train)))\n",
    "print('Train set accuracy {:.4f}'.format(etc_multi.score(X_test_vect,y_test)))"
   ]
  },
  {
   "cell_type": "code",
   "execution_count": 19,
   "id": "455d90bf-38d0-428d-8706-2e92cc132b2b",
   "metadata": {},
   "outputs": [
    {
     "name": "stdout",
     "output_type": "stream",
     "text": [
      "Train set accuracy 0.5975\n",
      "Train set accuracy 0.4853\n"
     ]
    }
   ],
   "source": [
    "lr = LogisticRegression()\n",
    "lr_1 = MultiOutputClassifier(lr)\n",
    "lr_multi = lr_1.fit(X_train_vect,y_train)\n",
    "print('Train set accuracy {:.4f}'.format(lr_multi.score(X_train_vect,y_train)))\n",
    "print('Train set accuracy {:.4f}'.format(lr_multi.score(X_test_vect,y_test)))"
   ]
  },
  {
   "cell_type": "code",
   "execution_count": 26,
   "id": "84c36d3c",
   "metadata": {},
   "outputs": [],
   "source": [
    "est = [('etc',etc),('xgb',xgb),('lr',lr)]\n",
    "stacked = StackingClassifier(n_jobs=-1,estimators=est,final_estimator=lr,passthrough=True)"
   ]
  },
  {
   "cell_type": "code",
   "execution_count": null,
   "id": "3bd45b49",
   "metadata": {
    "scrolled": true
   },
   "outputs": [],
   "source": [
    "stacked_1 = MultiOutputClassifier(stacked)\n",
    "stacked_multi = stacked_1.fit(X_train_vect,y_train)\n",
    "print('Train set accuracy {:.4f}'.format(stacked_multi.score(X_train_vect,y_train)))\n",
    "print('Train set accuracy {:.4f}'.format(stacked_multi.score(X_test_vect,y_test)))"
   ]
  },
  {
   "cell_type": "code",
   "execution_count": null,
   "id": "610a15e5",
   "metadata": {},
   "outputs": [],
   "source": []
  },
  {
   "cell_type": "markdown",
   "id": "310633e3-4238-4cd5-a3b7-82029c44c4bf",
   "metadata": {},
   "source": [
    "# CATEGORY CLASSIFIER"
   ]
  },
  {
   "cell_type": "code",
   "execution_count": 28,
   "id": "4d3b075f-d29a-431d-8790-3366fa41c480",
   "metadata": {},
   "outputs": [],
   "source": [
    "X = df['clean_title']\n",
    "y = df['category']"
   ]
  },
  {
   "cell_type": "code",
   "execution_count": 29,
   "id": "6c10ec39-386e-405a-beba-b0f8689359a7",
   "metadata": {},
   "outputs": [],
   "source": [
    "X_train, X_test, y_train, y_test = train_test_split(X,y,test_size=0.2,random_state=1)"
   ]
  },
  {
   "cell_type": "code",
   "execution_count": 30,
   "id": "cb23ac40-6ccf-49d1-8804-85fee965998b",
   "metadata": {},
   "outputs": [],
   "source": [
    "vector_train = TfidfVectorizer(ngram_range=(1,2)).fit(X_train)\n",
    "vocab = vector_train.vocabulary_\n",
    "features = vector_train.get_feature_names()\n",
    "X_train_vect = vector_train.transform(X_train)\n",
    "vector_test = TfidfVectorizer(vocabulary=vocab).fit(X_test)\n",
    "X_test_vect = vector_test.transform(X_test)"
   ]
  },
  {
   "cell_type": "code",
   "execution_count": 31,
   "id": "1440dc60-4cf7-4512-a734-7a6eb070c59e",
   "metadata": {},
   "outputs": [
    {
     "name": "stdout",
     "output_type": "stream",
     "text": [
      "[21:12:17] WARNING: ..\\src\\learner.cc:1061: Starting in XGBoost 1.3.0, the default evaluation metric used with the objective 'multi:softprob' was changed from 'merror' to 'mlogloss'. Explicitly set eval_metric if you'd like to restore the old behavior.\n",
      "Train set accuracy 0.7616\n",
      "Train set accuracy 0.6157\n"
     ]
    }
   ],
   "source": [
    "xgb = XGBClassifier()\n",
    "xgb_1 = xgb.fit(X_train_vect,y_train)\n",
    "print('Train set accuracy {:.4f}'.format(xgb_1.score(X_train_vect,y_train)))\n",
    "print('Train set accuracy {:.4f}'.format(xgb_1.score(X_test_vect,y_test)))"
   ]
  },
  {
   "cell_type": "code",
   "execution_count": 32,
   "id": "d3f05e93-87bc-48dd-914d-c3e7f7b39f82",
   "metadata": {},
   "outputs": [
    {
     "name": "stdout",
     "output_type": "stream",
     "text": [
      "Train set accuracy 0.9983\n",
      "Train set accuracy 0.6933\n"
     ]
    }
   ],
   "source": [
    "etc = ExtraTreesClassifier()\n",
    "etc_1 = etc.fit(X_train_vect,y_train)\n",
    "print('Train set accuracy {:.4f}'.format(etc_1.score(X_train_vect,y_train)))\n",
    "print('Train set accuracy {:.4f}'.format(etc_1.score(X_test_vect,y_test)))"
   ]
  },
  {
   "cell_type": "code",
   "execution_count": 33,
   "id": "08930962-506e-436d-a214-6d9e3d130e01",
   "metadata": {},
   "outputs": [
    {
     "name": "stdout",
     "output_type": "stream",
     "text": [
      "Train set accuracy 0.7089\n",
      "Train set accuracy 0.6024\n"
     ]
    }
   ],
   "source": [
    "lgbm = LGBMClassifier()\n",
    "lgbm_1 = lgbm.fit(X_train_vect,y_train)\n",
    "print('Train set accuracy {:.4f}'.format(lgbm_1.score(X_train_vect,y_train)))\n",
    "print('Train set accuracy {:.4f}'.format(lgbm_1.score(X_test_vect,y_test)))"
   ]
  },
  {
   "cell_type": "code",
   "execution_count": 34,
   "id": "75bebaec-3fce-48eb-91dc-a595b36a8b26",
   "metadata": {},
   "outputs": [
    {
     "name": "stdout",
     "output_type": "stream",
     "text": [
      "Train set accuracy 0.8086\n",
      "Train set accuracy 0.6983\n"
     ]
    }
   ],
   "source": [
    "lr = LogisticRegression()\n",
    "lr_1 = lr.fit(X_train_vect,y_train)\n",
    "print('Train set accuracy {:.4f}'.format(lr_1.score(X_train_vect,y_train)))\n",
    "print('Train set accuracy {:.4f}'.format(lr_1.score(X_test_vect,y_test)))"
   ]
  },
  {
   "cell_type": "code",
   "execution_count": 37,
   "id": "c26fcd21-546f-45bb-ba5e-2337176df156",
   "metadata": {},
   "outputs": [],
   "source": [
    "est = [('etc',etc),('xgb',xgb),('lgbm',lgbm),('lr',lr)]\n",
    "stacked = StackingClassifier(n_jobs=-1,estimators=est,final_estimator=lr,passthrough=True)"
   ]
  },
  {
   "cell_type": "code",
   "execution_count": null,
   "id": "7c543971-0fa4-4fac-b819-84fd96182831",
   "metadata": {
    "scrolled": true
   },
   "outputs": [],
   "source": [
    "stacked_1 = stacked.fit(X_train_vect,y_train)\n",
    "print('Train set accuracy {:.4f}'.format(stacked_1.score(X_train_vect,y_train)))\n",
    "print('Train set accuracy {:.4f}'.format(stacked_1.score(X_test_vect,y_test)))"
   ]
  },
  {
   "cell_type": "code",
   "execution_count": null,
   "id": "a58233bc",
   "metadata": {},
   "outputs": [],
   "source": [
    "# Train set accuracy 0.9961\n",
    "# Train set accuracy 0.7208"
   ]
  }
 ],
 "metadata": {
  "kernelspec": {
   "display_name": "Python 3 (ipykernel)",
   "language": "python",
   "name": "python3"
  },
  "language_info": {
   "codemirror_mode": {
    "name": "ipython",
    "version": 3
   },
   "file_extension": ".py",
   "mimetype": "text/x-python",
   "name": "python",
   "nbconvert_exporter": "python",
   "pygments_lexer": "ipython3",
   "version": "3.8.10"
  }
 },
 "nbformat": 4,
 "nbformat_minor": 5
}
